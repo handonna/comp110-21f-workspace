{
 "cells": [
  {
   "cell_type": "markdown",
   "metadata": {},
   "source": [
    "# Hypothesis: I think there are more returning UNC students than incoming first-year UNC students and incoming transfer students combined enrolled in COMP 110 for this semester."
   ]
  },
  {
   "cell_type": "markdown",
   "metadata": {},
   "source": [
    "First, I will read in the csv. Then, I will convert it into a column-orientated data table to make the data more accessible."
   ]
  },
  {
   "cell_type": "code",
   "execution_count": 2,
   "metadata": {},
   "outputs": [],
   "source": [
    "from data_utils import read_csv_rows, columnar\n",
    "\n",
    "data_rows: list[dict[str, str]] = read_csv_rows('../../data/survey.csv')\n",
    "columns: dict[str, list[str]] = columnar(data_rows)"
   ]
  },
  {
   "cell_type": "markdown",
   "metadata": {},
   "source": [
    "The next step is to select the column called 'UNC Status'. For reference, here are the first ten rows."
   ]
  },
  {
   "cell_type": "code",
   "execution_count": 3,
   "metadata": {},
   "outputs": [
    {
     "data": {
      "text/plain": [
       "{'unc_status': ['Returning UNC Student',\n",
       "  'Returning UNC Student',\n",
       "  'Returning UNC Student',\n",
       "  'Returning UNC Student',\n",
       "  'Returning UNC Student',\n",
       "  'Incoming Transfer Student',\n",
       "  'Returning UNC Student',\n",
       "  'Returning UNC Student',\n",
       "  'Returning UNC Student',\n",
       "  'Returning UNC Student']}"
      ]
     },
     "execution_count": 3,
     "metadata": {},
     "output_type": "execute_result"
    }
   ],
   "source": [
    "from data_utils import head, select\n",
    "subset: dict[str, list[str]] = select(columns, ['unc_status'])\n",
    "head(subset, 10)"
   ]
  },
  {
   "cell_type": "markdown",
   "metadata": {},
   "source": [
    "The following step is to count the total of returning UNC students and new UNC students."
   ]
  },
  {
   "cell_type": "code",
   "execution_count": 4,
   "metadata": {},
   "outputs": [
    {
     "name": "stdout",
     "output_type": "stream",
     "text": [
      "Returning student total is: 421\n",
      "Incoming transfer student total is: 53\n",
      "Incoming first-year student total is: 91\n"
     ]
    }
   ],
   "source": [
    "from data_utils import count\n",
    "counts = count(subset['unc_status'])\n",
    "\n",
    "Returning_student_total = counts['Returning UNC Student']\n",
    "print(f\"Returning student total is: {counts['Returning UNC Student']}\")\n",
    "Transfer_student_total = counts['Incoming Transfer Student']\n",
    "print(f\"Incoming transfer student total is: {counts['Incoming Transfer Student']}\")\n",
    "Incoming_first_year_student_total = counts['Incoming First-year Student']\n",
    "print(f\"Incoming first-year student total is: {counts['Incoming First-year Student']}\")"
   ]
  },
  {
   "cell_type": "markdown",
   "metadata": {},
   "source": [
    "The following step uses a helper function to determine how many students who took the survey aren't UNC returning students. Hence, it adds the total of incoming transfer students and incoming first year students."
   ]
  },
  {
   "cell_type": "code",
   "execution_count": 5,
   "metadata": {},
   "outputs": [
    {
     "name": "stdout",
     "output_type": "stream",
     "text": [
      "Total number of non - UNC returning students is: 144\n"
     ]
    }
   ],
   "source": [
    "from data_utils import add\n",
    "total = add(Transfer_student_total, Incoming_first_year_student_total)\n",
    "\n",
    "print(f\"Total number of non - UNC returning students is: {total}\")"
   ]
  },
  {
   "cell_type": "markdown",
   "metadata": {},
   "source": [
    "The next code runs a visual of a barplot showing how many students are in each group (returning students, transfer students, first year)."
   ]
  },
  {
   "cell_type": "code",
   "execution_count": 11,
   "metadata": {},
   "outputs": [
    {
     "data": {
      "text/plain": [
       "<AxesSubplot:>"
      ]
     },
     "execution_count": 11,
     "metadata": {},
     "output_type": "execute_result"
    },
    {
     "data": {
      "image/png": "[encoded data removed]",
      "text/plain": [
       "<Figure size 432x288 with 1 Axes>"
      ]
     },
     "metadata": {
      "needs_background": "light"
     },
     "output_type": "display_data"
    }
   ],
   "source": [
    "import seaborn\n",
    "\n",
    "seaborn.barplot(x=['Returning Student Total','First-year Student Total','Transfer Student Total'], y=[421.0, 91.0, 53.0])"
   ]
  },
  {
   "cell_type": "markdown",
   "metadata": {},
   "source": [
    "# Conclusion"
   ]
  },
  {
   "cell_type": "markdown",
   "metadata": {},
   "source": []
  },
  {
   "cell_type": "markdown",
   "metadata": {},
   "source": [
    "In conclusion, my hypothesis that there are more returning UNC students taking COMP 110 than incoming transfer students and first year students combined is accurate based on the data collected from the survey. I came to this conclusion because the total number of returning students is 421. The combined total of incoming transfer students and incoming first year students  is 144. This may be due to COMP 110 typically being a harder course to register for."
   ]
  }
 ],
 "metadata": {
  "interpreter": {
   "hash": "aee8b7b246df8f9039afb4144a1f6fd8d2ca17a180786b69acc140d282b71a49"
  },
  "kernelspec": {
   "display_name": "Python 3.9.6 64-bit",
   "language": "python",
   "name": "python3"
  },
  "language_info": {
   "codemirror_mode": {
    "name": "ipython",
    "version": 3
   },
   "file_extension": ".py",
   "mimetype": "text/x-python",
   "name": "python",
   "nbconvert_exporter": "python",
   "pygments_lexer": "ipython3",
   "version": "3.9.6"
  },
  "orig_nbformat": 4
 },
 "nbformat": 4,
 "nbformat_minor": 2
}
